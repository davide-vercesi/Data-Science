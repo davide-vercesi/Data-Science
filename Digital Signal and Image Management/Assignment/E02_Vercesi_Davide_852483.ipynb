{
  "nbformat": 4,
  "nbformat_minor": 0,
  "metadata": {
    "colab": {
      "name": "E02_Vercesi_Davide_852483.ipynb",
      "provenance": [],
      "collapsed_sections": []
    },
    "kernelspec": {
      "name": "python3",
      "display_name": "Python 3"
    }
  },
  "cells": [
    {
      "cell_type": "markdown",
      "metadata": {
        "id": "-zXGhm0Svhho"
      },
      "source": [
        "Assignment E02\r\n",
        "\r\n",
        "Implement the Zero-crossing rate (ZCR) feature to describe a single-channel audio signal, starting from the commands shown in the excercises.\r\n",
        "Verify the effect of using ZCR in combination with other features available in the published notebook."
      ]
    },
    {
      "cell_type": "code",
      "metadata": {
        "id": "ZOhNxik6tiCk"
      },
      "source": [
        "import os\r\n",
        "import numpy as np\r\n",
        "from time import time\r\n",
        "from scipy.io import wavfile as wav\r\n",
        "\r\n",
        "import matplotlib.pyplot as plt\r\n",
        "import IPython.display as ipd\r\n",
        "\r\n",
        "# Classification tools\r\n",
        "from sklearn.svm import SVC\r\n",
        "from sklearn.model_selection import train_test_split, GridSearchCV\r\n",
        "from sklearn.metrics import classification_report, confusion_matrix\r\n",
        "\r\n",
        "# File management\r\n",
        "from google.colab import drive\r\n",
        "import tarfile\r\n",
        "from shutil import copyfile\r\n",
        "\r\n",
        "# Advanced audio features\r\n",
        "import librosa\r\n",
        "import librosa.display as lid\r\n",
        "from sklearn.preprocessing import scale"
      ],
      "execution_count": null,
      "outputs": []
    },
    {
      "cell_type": "code",
      "metadata": {
        "colab": {
          "base_uri": "https://localhost:8080/"
        },
        "id": "k9lUC4K6jFw_",
        "outputId": "029d04a5-7e98-4b6a-b13e-28ca699a5667"
      },
      "source": [
        "# Link Google Drive account, transfer dataset, and extract files\r\n",
        "drive.mount('/content/gdrive')"
      ],
      "execution_count": null,
      "outputs": [
        {
          "output_type": "stream",
          "text": [
            "Mounted at /content/gdrive\n"
          ],
          "name": "stdout"
        }
      ]
    },
    {
      "cell_type": "code",
      "metadata": {
        "colab": {
          "base_uri": "https://localhost:8080/",
          "height": 35
        },
        "id": "_QJhX-UFjJ-O",
        "outputId": "17facc33-a953-4311-a2da-c27295f63972"
      },
      "source": [
        "copyfile('gdrive/MyDrive/recordings.tar', 'recordings.tar')"
      ],
      "execution_count": null,
      "outputs": [
        {
          "output_type": "execute_result",
          "data": {
            "application/vnd.google.colaboratory.intrinsic+json": {
              "type": "string"
            },
            "text/plain": [
              "'recordings.tar'"
            ]
          },
          "metadata": {
            "tags": []
          },
          "execution_count": 3
        }
      ]
    },
    {
      "cell_type": "code",
      "metadata": {
        "id": "j1lmdB3YjWLJ"
      },
      "source": [
        "tar = tarfile.open('recordings.tar')\r\n",
        "tar.extractall()\r\n",
        "tar.close()"
      ],
      "execution_count": null,
      "outputs": []
    },
    {
      "cell_type": "code",
      "metadata": {
        "id": "72oTaEQYjrBM"
      },
      "source": [
        "def identity(input):\r\n",
        "    return input\r\n",
        "\r\n",
        "# Data loader\r\n",
        "def load_data(feature_extractor=identity, normalize=False):\r\n",
        "\r\n",
        "    labels = []\r\n",
        "    features = []\r\n",
        "\r\n",
        "    for f in sorted(os.listdir('./recordings')):\r\n",
        "        if f.endswith('.wav'):\r\n",
        "            # Load file and compute the requested features\r\n",
        "            _, signal = wav.read('./recordings/' + f)\r\n",
        "            cur_features = feature_extractor(signal)\r\n",
        "            features.append(cur_features)\r\n",
        "\r\n",
        "            # Classes\r\n",
        "            label = f.split('_')[0]\r\n",
        "            labels.append(label)\r\n",
        "\r\n",
        "    # X: features, y: labels\r\n",
        "    X_train, X_test, y_train, y_test = train_test_split(features, labels, test_size=0.1, random_state=1)\r\n",
        "\r\n",
        "    if normalize:\r\n",
        "        eps = 0.001\r\n",
        "        X_train = np.array(X_train)\r\n",
        "        X_train_mean = X_train.mean(axis=0)\r\n",
        "        X_train_std = X_train.std(axis=0)\r\n",
        "        X_train = (X_train - X_train_mean + eps)/(X_train_std + eps)\r\n",
        "        X_train = [row for row in X_train]\r\n",
        "\r\n",
        "        X_test = [row for row in (np.array(X_test) - X_train_mean + eps)/(X_train_std + eps)]\r\n",
        "\r\n",
        "    return X_train, X_test, y_train, y_test"
      ],
      "execution_count": null,
      "outputs": []
    },
    {
      "cell_type": "code",
      "metadata": {
        "id": "lQSmZ7QGj9tk"
      },
      "source": [
        "def crop(input, size=100):\r\n",
        "    # Remove any values exceeding the given limit\r\n",
        "    output = input[0:min(size, input.shape[0])]\r\n",
        "    # Add null values (padding) in order to reach the requested size\r\n",
        "    output = np.concatenate((output, np.zeros(size-output.shape[0])))\r\n",
        "    return output"
      ],
      "execution_count": null,
      "outputs": []
    },
    {
      "cell_type": "code",
      "metadata": {
        "id": "4NunWNbFpGlc"
      },
      "source": [
        "def sdev(input):\r\n",
        "    return np.std(input, keepdims=True)"
      ],
      "execution_count": null,
      "outputs": []
    },
    {
      "cell_type": "markdown",
      "metadata": {
        "id": "JiaASdL7zFQ7"
      },
      "source": [
        "-\tScalar quantity: it has only one characteristic, the modulus value.\r\n",
        "- Vector quantity: has 3 characteristics modulus, direction and direction.\r\n",
        "\r\n",
        "scikit-learn classifiers cannot directly use a scalar feature.\r\n",
        "They can, however, use an equivalent monodimensional vector with size = 1.\r\n",
        "\r\n",
        "The effect of using keepdims=True during the feature computation is shown here:"
      ]
    },
    {
      "cell_type": "code",
      "metadata": {
        "id": "SnyYd5MDt6I-"
      },
      "source": [
        "# Create sample data and corresponding feature\r\n",
        "dummy_data = np.random.rand(100)\r\n",
        "feats_scalar = np.std(dummy_data)\r\n",
        "feats_vector = np.std(dummy_data, keepdims=True)"
      ],
      "execution_count": null,
      "outputs": []
    },
    {
      "cell_type": "code",
      "metadata": {
        "colab": {
          "base_uri": "https://localhost:8080/"
        },
        "id": "xwpgv-v2zrPC",
        "outputId": "ebe08605-eca5-4a59-e01e-6f82b4e65473"
      },
      "source": [
        "# Scalar feature\r\n",
        "print(feats_scalar)\r\n",
        "print(feats_scalar.shape)"
      ],
      "execution_count": null,
      "outputs": [
        {
          "output_type": "stream",
          "text": [
            "0.2843171763032851\n",
            "()\n"
          ],
          "name": "stdout"
        }
      ]
    },
    {
      "cell_type": "code",
      "metadata": {
        "colab": {
          "base_uri": "https://localhost:8080/"
        },
        "id": "hD7Rp1ykzwYw",
        "outputId": "464fad92-21ca-49a3-8d71-a2de63f12fbe"
      },
      "source": [
        "# Vector feature\r\n",
        "print(feats_vector)\r\n",
        "print(feats_vector.shape)"
      ],
      "execution_count": null,
      "outputs": [
        {
          "output_type": "stream",
          "text": [
            "[0.28431718]\n",
            "(1,)\n"
          ],
          "name": "stdout"
        }
      ]
    },
    {
      "cell_type": "markdown",
      "metadata": {
        "id": "K8spL3sV0EiZ"
      },
      "source": [
        "The average value of an audio signal is typically close to zero, since the signal oscillates around such value.\r\n",
        "\r\n",
        "A more interesting feature could be the average of the absolute values (avg()).\r\n",
        "\r\n",
        "Note: by definition, this feature is highly correlated to the \"volume\" of the audio track."
      ]
    },
    {
      "cell_type": "code",
      "metadata": {
        "id": "xtxdBCiJ0G5W"
      },
      "source": [
        "def avg(input):\r\n",
        "    return np.mean(input, keepdims=True)\r\n",
        "\r\n",
        "def aavg(input):\r\n",
        "    return np.mean(np.abs(input), keepdims=True)"
      ],
      "execution_count": null,
      "outputs": []
    },
    {
      "cell_type": "code",
      "metadata": {
        "id": "EIyWLRmV3dZ-"
      },
      "source": [
        "def duration(input):\r\n",
        "    return input.shape\r\n",
        "\r\n",
        "def energy(input):\r\n",
        "    return np.sum((input*1.0)**2, keepdims=True)\r\n",
        "\r\n",
        "def zcr(input):\r\n",
        "    return input # TODO"
      ],
      "execution_count": null,
      "outputs": []
    },
    {
      "cell_type": "markdown",
      "metadata": {
        "id": "jZQccwwhAT5i"
      },
      "source": [
        "Zero-Crossing Rate: count how many times the signal goes from positive to negative, and from negative to positive.\r\n",
        "\r\n",
        "Possible approach:\r\n",
        "\r\n",
        "- Shift the signal by one unit\r\n",
        "- Compare point-by-point the sign (np.sign()) of the original signal and of the shifted signal\r\n",
        "- Accumulate the instances of sign change"
      ]
    },
    {
      "cell_type": "markdown",
      "metadata": {
        "id": "P-JksRiWHd9b"
      },
      "source": [
        "# Zero-Crossing Rate (ZCR)\r\n",
        "[10 14 5 -5 -7 10]  \r\n",
        "[14 5 -5 -7 10  0]\r\n",
        "# + +  +  -  -  +\r\n",
        "# + +  -  -  +  +  \r\n",
        "\r\n",
        "  0 0  1  0  1  0\r\n",
        "\r\n",
        "Adding up the result will give zcr=2"
      ]
    },
    {
      "cell_type": "markdown",
      "metadata": {
        "id": "3nJCelYgJGhG"
      },
      "source": [
        "Zero-crossing rate (ZCR):   \r\n",
        "![image.png](data:image/png;base64,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)  \r\n",
        "It is a measure that reﬂects the times that signs of two adjacent values in A change from positive to negative or vice versa where sign() returns 1 if one of the two inputs is positive and another one is negative;otherwise it returns 0."
      ]
    },
    {
      "cell_type": "code",
      "metadata": {
        "id": "303_e0aHEPP-"
      },
      "source": [
        "def zcr (input):\r\n",
        "  return np.sum(np.abs(np.diff(input, n=1)), keepdims=True)/2"
      ],
      "execution_count": null,
      "outputs": []
    },
    {
      "cell_type": "code",
      "metadata": {
        "id": "kiXsHZCXEO_9"
      },
      "source": [
        "def combo_without_zrc(input):\r\n",
        "    return np.concatenate((aavg(input),sdev(input),duration(input),energy(input)))"
      ],
      "execution_count": null,
      "outputs": []
    },
    {
      "cell_type": "code",
      "metadata": {
        "id": "ssNyXIGQASWv"
      },
      "source": [
        "def combo(input):\r\n",
        "    return np.concatenate((aavg(input),sdev(input),duration(input),energy(input),zcr(input)))"
      ],
      "execution_count": null,
      "outputs": []
    },
    {
      "cell_type": "markdown",
      "metadata": {
        "id": "QhOHTQhJBvrJ"
      },
      "source": [
        "# Model training"
      ]
    },
    {
      "cell_type": "code",
      "metadata": {
        "id": "sNnisOP8Bzs3"
      },
      "source": [
        "# Data loading\r\n",
        "X_train, X_test, y_train, y_test = load_data(feature_extractor=combo_without_zrc, normalize=True)\r\n",
        "X_train_zcr, X_test_zcr, y_train_zcr, y_test_zcr = load_data(feature_extractor=combo, normalize=True)"
      ],
      "execution_count": null,
      "outputs": []
    },
    {
      "cell_type": "code",
      "metadata": {
        "colab": {
          "base_uri": "https://localhost:8080/"
        },
        "id": "_0w70hKuB4xF",
        "outputId": "be1a2a8a-eeb7-4927-979f-0236f69e95ee"
      },
      "source": [
        "# Dimensionality of the training features\r\n",
        "print(X_train[0].shape)\r\n",
        "print(X_train_zcr[0].shape)"
      ],
      "execution_count": null,
      "outputs": [
        {
          "output_type": "stream",
          "text": [
            "(4,)\n",
            "(5,)\n"
          ],
          "name": "stdout"
        }
      ]
    },
    {
      "cell_type": "markdown",
      "metadata": {
        "id": "5t_4RbwvS9ZH"
      },
      "source": [
        "For training without zcr there will be 4 features  \r\n",
        "For training with zcr there will be 5 features"
      ]
    },
    {
      "cell_type": "code",
      "metadata": {
        "colab": {
          "base_uri": "https://localhost:8080/"
        },
        "id": "nsxSP3nRB7IJ",
        "outputId": "bf599883-0be6-4159-96ff-01b991f0f609"
      },
      "source": [
        "# Parameters to be tested in cross-validation without zcr\r\n",
        "param_grid = {'C': [100, 500, 1000],\r\n",
        "          'gamma': [0.005, 0.01, 0.1, 0.5, 1.0], }\r\n",
        "\r\n",
        "# Support Vector Machine initialization\r\n",
        "clf_without_zcr = GridSearchCV(SVC(kernel='rbf', class_weight='balanced'), param_grid, cv=2)\r\n",
        "\r\n",
        "# Training\r\n",
        "t0 = time()\r\n",
        "clf_without_zcr = clf_without_zcr.fit(X_train, y_train)\r\n",
        "print('Training completed in %0.3fs' % (time() - t0))"
      ],
      "execution_count": null,
      "outputs": [
        {
          "output_type": "stream",
          "text": [
            "Training completed in 3.629s\n"
          ],
          "name": "stdout"
        }
      ]
    },
    {
      "cell_type": "code",
      "metadata": {
        "colab": {
          "base_uri": "https://localhost:8080/"
        },
        "id": "z6qnDofmCEAx",
        "outputId": "c8c4ef69-009b-4d78-e9ef-c31821593804"
      },
      "source": [
        "# Result of the cross validation for parameters selection\r\n",
        "print('Best parameters combination:')\r\n",
        "print(' C: '+str(clf_without_zcr.best_estimator_.C))\r\n",
        "print(' gamma: '+str(clf_without_zcr.best_estimator_.gamma))"
      ],
      "execution_count": null,
      "outputs": [
        {
          "output_type": "stream",
          "text": [
            "Best parameters combination:\n",
            " C: 1000\n",
            " gamma: 0.5\n"
          ],
          "name": "stdout"
        }
      ]
    },
    {
      "cell_type": "code",
      "metadata": {
        "colab": {
          "base_uri": "https://localhost:8080/"
        },
        "id": "4Yvy4yMeUd3m",
        "outputId": "404ffd34-dab4-430f-c09f-0f5e8f8e5f80"
      },
      "source": [
        "# Parameters to be tested in cross-validation without zcr\r\n",
        "param_grid = {'C': [100, 500, 1000],\r\n",
        "          'gamma': [0.005, 0.01, 0.1, 0.5, 1.0], }\r\n",
        "\r\n",
        "# Support Vector Machine initialization\r\n",
        "clf = GridSearchCV(SVC(kernel='rbf', class_weight='balanced'), param_grid, cv=2)\r\n",
        "\r\n",
        "# Training\r\n",
        "t0 = time()\r\n",
        "clf = clf.fit(X_train_zcr, y_train_zcr)\r\n",
        "print('Training completed in %0.3fs' % (time() - t0))"
      ],
      "execution_count": null,
      "outputs": [
        {
          "output_type": "stream",
          "text": [
            "Training completed in 2.914s\n"
          ],
          "name": "stdout"
        }
      ]
    },
    {
      "cell_type": "code",
      "metadata": {
        "colab": {
          "base_uri": "https://localhost:8080/"
        },
        "id": "SBTHd1MWUeBk",
        "outputId": "3d61feb8-c4f6-4bcc-9fd4-237b16b3205f"
      },
      "source": [
        "# Result of the cross validation for parameters selection\r\n",
        "print('Best parameters combination:')\r\n",
        "print(' C: '+str(clf.best_estimator_.C))\r\n",
        "print(' gamma: '+str(clf.best_estimator_.gamma))"
      ],
      "execution_count": null,
      "outputs": [
        {
          "output_type": "stream",
          "text": [
            "Best parameters combination:\n",
            " C: 1000\n",
            " gamma: 0.1\n"
          ],
          "name": "stdout"
        }
      ]
    },
    {
      "cell_type": "markdown",
      "metadata": {
        "id": "onaetvG7Dye7"
      },
      "source": [
        "# Model testing"
      ]
    },
    {
      "cell_type": "markdown",
      "metadata": {
        "id": "dCmEodzfVy6S"
      },
      "source": [
        "## Test without ZCR"
      ]
    },
    {
      "cell_type": "code",
      "metadata": {
        "colab": {
          "base_uri": "https://localhost:8080/",
          "height": 769
        },
        "id": "VAD3Yn8VCIhB",
        "outputId": "a035a7ac-d4ac-4381-ae32-fc0adf30433b"
      },
      "source": [
        "# Test\r\n",
        "y_pred = clf_without_zcr.predict(X_test)\r\n",
        "\r\n",
        "# Classificaiton report\r\n",
        "print('Classification report:')\r\n",
        "print(classification_report(y_test, y_pred))\r\n",
        "\r\n",
        "# Confusion matrix\r\n",
        "print('Confusion matrix:')\r\n",
        "cm = confusion_matrix(y_test, y_pred)\r\n",
        "print(cm)\r\n",
        "plt.imshow(cm, cmap=plt.cm.Blues)"
      ],
      "execution_count": null,
      "outputs": [
        {
          "output_type": "stream",
          "text": [
            "Classification report:\n",
            "              precision    recall  f1-score   support\n",
            "\n",
            "           0       0.58      0.65      0.61        17\n",
            "           1       0.33      0.40      0.36        10\n",
            "           2       0.28      0.33      0.30        15\n",
            "           3       0.53      0.42      0.47        19\n",
            "           4       0.36      0.45      0.40        11\n",
            "           5       0.44      0.29      0.35        14\n",
            "           6       0.79      0.79      0.79        14\n",
            "           7       0.80      0.42      0.55        19\n",
            "           8       0.35      0.41      0.38        17\n",
            "           9       0.32      0.43      0.36        14\n",
            "\n",
            "    accuracy                           0.46       150\n",
            "   macro avg       0.48      0.46      0.46       150\n",
            "weighted avg       0.49      0.46      0.47       150\n",
            "\n",
            "Confusion matrix:\n",
            "[[11  0  0  0  0  0  0  0  0  6]\n",
            " [ 0  4  2  2  0  1  0  0  1  0]\n",
            " [ 2  1  5  3  0  0  0  0  2  2]\n",
            " [ 0  3  7  8  0  0  0  0  0  1]\n",
            " [ 1  1  1  1  5  2  0  0  0  0]\n",
            " [ 1  0  0  1  4  4  1  0  2  1]\n",
            " [ 0  0  0  0  0  0 11  1  2  0]\n",
            " [ 0  0  0  0  2  0  2  8  4  3]\n",
            " [ 0  2  2  0  3  2  0  1  7  0]\n",
            " [ 4  1  1  0  0  0  0  0  2  6]]\n"
          ],
          "name": "stdout"
        },
        {
          "output_type": "execute_result",
          "data": {
            "text/plain": [
              "<matplotlib.image.AxesImage at 0x7fbce31da080>"
            ]
          },
          "metadata": {
            "tags": []
          },
          "execution_count": 22
        },
        {
          "output_type": "display_data",
          "data": {
            "image/png": "[encoded data removed]",
            "text/plain": [
              "<Figure size 432x288 with 1 Axes>"
            ]
          },
          "metadata": {
            "tags": [],
            "needs_background": "light"
          }
        }
      ]
    },
    {
      "cell_type": "markdown",
      "metadata": {
        "id": "cPmUwJdvV5hU"
      },
      "source": [
        "## Test with ZCR"
      ]
    },
    {
      "cell_type": "code",
      "metadata": {
        "colab": {
          "base_uri": "https://localhost:8080/",
          "height": 769
        },
        "id": "gTGh1Nw_Gq7P",
        "outputId": "f07b3a1a-0fcd-484e-c839-76a347060a0c"
      },
      "source": [
        "# Test\r\n",
        "y_pred = clf.predict(X_test_zcr)\r\n",
        "\r\n",
        "# Classificaiton report\r\n",
        "print('Classification report:')\r\n",
        "print(classification_report(y_test_zcr, y_pred))\r\n",
        "\r\n",
        "# Confusion matrix\r\n",
        "print('Confusion matrix:')\r\n",
        "cm = confusion_matrix(y_test_zcr, y_pred)\r\n",
        "print(cm)\r\n",
        "plt.imshow(cm, cmap=plt.cm.Blues)"
      ],
      "execution_count": null,
      "outputs": [
        {
          "output_type": "stream",
          "text": [
            "Classification report:\n",
            "              precision    recall  f1-score   support\n",
            "\n",
            "           0       0.73      0.65      0.69        17\n",
            "           1       0.29      0.50      0.37        10\n",
            "           2       0.78      0.47      0.58        15\n",
            "           3       0.75      0.63      0.69        19\n",
            "           4       0.35      0.55      0.43        11\n",
            "           5       0.54      0.50      0.52        14\n",
            "           6       0.83      0.71      0.77        14\n",
            "           7       0.58      0.58      0.58        19\n",
            "           8       0.43      0.35      0.39        17\n",
            "           9       0.50      0.64      0.56        14\n",
            "\n",
            "    accuracy                           0.56       150\n",
            "   macro avg       0.58      0.56      0.56       150\n",
            "weighted avg       0.60      0.56      0.57       150\n",
            "\n",
            "Confusion matrix:\n",
            "[[11  0  0  0  1  1  0  0  0  4]\n",
            " [ 0  5  0  1  3  0  0  0  1  0]\n",
            " [ 2  1  7  2  0  1  0  0  1  1]\n",
            " [ 0  4  1 12  1  0  0  0  0  1]\n",
            " [ 1  2  1  1  6  0  0  0  0  0]\n",
            " [ 0  0  0  0  2  7  1  0  3  1]\n",
            " [ 0  0  0  0  0  0 10  2  2  0]\n",
            " [ 0  0  0  0  2  2  1 11  1  2]\n",
            " [ 0  4  0  0  2  1  0  4  6  0]\n",
            " [ 1  1  0  0  0  1  0  2  0  9]]\n"
          ],
          "name": "stdout"
        },
        {
          "output_type": "execute_result",
          "data": {
            "text/plain": [
              "<matplotlib.image.AxesImage at 0x7fbce31da4e0>"
            ]
          },
          "metadata": {
            "tags": []
          },
          "execution_count": 23
        },
        {
          "output_type": "display_data",
          "data": {
            "image/png": "[encoded data removed]",
            "text/plain": [
              "<Figure size 432x288 with 1 Axes>"
            ]
          },
          "metadata": {
            "tags": [],
            "needs_background": "light"
          }
        }
      ]
    },
    {
      "cell_type": "markdown",
      "metadata": {
        "id": "YFIgoehoWnMa"
      },
      "source": [
        "As you can see from these 2 tests by adding the Zero-Crossing Rate feature the accuracy increases significantly from 0.46 (model without ZCR) to 0.56 (model with ZCR)."
      ]
    },
    {
      "cell_type": "code",
      "metadata": {
        "id": "GI_WG1W61VQL"
      },
      "source": [
        ""
      ],
      "execution_count": null,
      "outputs": []
    }
  ]
}