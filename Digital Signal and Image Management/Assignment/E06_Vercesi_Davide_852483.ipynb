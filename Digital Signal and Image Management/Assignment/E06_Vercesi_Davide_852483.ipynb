{
  "nbformat": 4,
  "nbformat_minor": 0,
  "metadata": {
    "colab": {
      "name": "E06_Vercesi_Davide_852483.ipynb",
      "provenance": [],
      "collapsed_sections": []
    },
    "kernelspec": {
      "name": "python3",
      "display_name": "Python 3"
    },
    "accelerator": "GPU"
  },
  "cells": [
    {
      "cell_type": "markdown",
      "metadata": {
        "id": "mswOrzIAvFnU"
      },
      "source": [
        "Implement a classification script based on the fine tuning of a neural network for the 101 object classes dataset, following the guidelines shown in the notebook.\r\n",
        "\r\n",
        "Verify the impact over the model performance given by:\r\n",
        "\r\n",
        "1.   A different architecture (i.e. no mobile net)\r\n",
        "2.   Data augmentation operations\r\n",
        "\r\n",
        "\r\n"
      ]
    },
    {
      "cell_type": "code",
      "metadata": {
        "colab": {
          "base_uri": "https://localhost:8080/",
          "height": 35
        },
        "id": "l0hdS6V9bTom",
        "outputId": "3a732da1-9f75-4993-a1ff-202ddfd3f600"
      },
      "source": [
        "from tensorflow import keras\r\n",
        "keras.__version__"
      ],
      "execution_count": null,
      "outputs": [
        {
          "output_type": "execute_result",
          "data": {
            "application/vnd.google.colaboratory.intrinsic+json": {
              "type": "string"
            },
            "text/plain": [
              "'2.4.0'"
            ]
          },
          "metadata": {
            "tags": []
          },
          "execution_count": 41
        }
      ]
    },
    {
      "cell_type": "code",
      "metadata": {
        "id": "7J8HOGTwbggF"
      },
      "source": [
        "from tensorflow.keras.applications import xception\r\n",
        "from keras import callbacks\r\n",
        "\r\n",
        "import numpy as np\r\n",
        "import tarfile\r\n",
        "from time import time\r\n",
        "from shutil import copyfile\r\n",
        "import matplotlib.pyplot as plt"
      ],
      "execution_count": null,
      "outputs": []
    },
    {
      "cell_type": "markdown",
      "metadata": {
        "id": "3_2q7ZnebiqX"
      },
      "source": [
        "# File management\r\n",
        "https://colab.research.google.com/notebooks/io.ipynb"
      ]
    },
    {
      "cell_type": "code",
      "metadata": {
        "colab": {
          "base_uri": "https://localhost:8080/"
        },
        "id": "61cK6x03bgi2",
        "outputId": "da625249-e0b8-4fea-b940-c0a4bb469fb2"
      },
      "source": [
        "from google.colab import drive\r\n",
        "drive.mount('/content/gdrive')"
      ],
      "execution_count": null,
      "outputs": [
        {
          "output_type": "stream",
          "text": [
            "Drive already mounted at /content/gdrive; to attempt to forcibly remount, call drive.mount(\"/content/gdrive\", force_remount=True).\n"
          ],
          "name": "stdout"
        }
      ]
    },
    {
      "cell_type": "code",
      "metadata": {
        "colab": {
          "base_uri": "https://localhost:8080/"
        },
        "id": "CUB3i9OVb5Yv",
        "outputId": "064f0d85-508a-4bff-9eee-4d97f9598247"
      },
      "source": [
        "t0 = time()\r\n",
        "# Link Google Drive account, transfer dataset, and extract files\r\n",
        "copyfile('gdrive/My Drive/101_ObjectCategories_split.tar', '101_ObjectCategories_split.tar')\r\n",
        "tar = tarfile.open('101_ObjectCategories_split.tar')\r\n",
        "tar.extractall()\r\n",
        "tar.close()\r\n",
        "print(\"File transfer completed in %0.3f seconds\" % (time() - t0))"
      ],
      "execution_count": null,
      "outputs": [
        {
          "output_type": "stream",
          "text": [
            "File transfer completed in 2.375 seconds\n"
          ],
          "name": "stdout"
        }
      ]
    },
    {
      "cell_type": "code",
      "metadata": {
        "id": "Ygr5XoHZb5bl"
      },
      "source": [
        "base_path = '101_ObjectCategories_split/'"
      ],
      "execution_count": null,
      "outputs": []
    },
    {
      "cell_type": "markdown",
      "metadata": {
        "id": "pV9H5Hk9VN6t"
      },
      "source": [
        "# Xception model\r\n"
      ]
    },
    {
      "cell_type": "markdown",
      "metadata": {
        "id": "iHaq8aBNcHrm"
      },
      "source": [
        "# Training without Data Augmentation\r\n",
        "\r\n",
        "\r\n",
        "### Training set\r\n",
        "https://keras.io/preprocessing/image/#imagedatagenerator-class\r\n",
        "\r\n",
        "\r\n",
        "https://keras.io/api/preprocessing/image/#flowfromdirectory-method"
      ]
    },
    {
      "cell_type": "code",
      "metadata": {
        "colab": {
          "base_uri": "https://localhost:8080/"
        },
        "id": "0AUq0Y-eb5gv",
        "outputId": "bec35fe0-761d-4948-ca95-64f2c67aa314"
      },
      "source": [
        "# Image transformations\r\n",
        "train_processing = keras.preprocessing.image.ImageDataGenerator(preprocessing_function=xception.preprocess_input)\r\n",
        "# Where to get the data and how to split them\r\n",
        "train_generator = train_processing.flow_from_directory(\r\n",
        "        directory=base_path+'train',\r\n",
        "        target_size=(224, 224),\r\n",
        "        color_mode=\"rgb\",\r\n",
        "        batch_size=32,\r\n",
        "        class_mode=\"categorical\",\r\n",
        "        shuffle=True,\r\n",
        "        seed=1)"
      ],
      "execution_count": null,
      "outputs": [
        {
          "output_type": "stream",
          "text": [
            "Found 4600 images belonging to 102 classes.\n"
          ],
          "name": "stdout"
        }
      ]
    },
    {
      "cell_type": "markdown",
      "metadata": {
        "id": "0IYhH55_cin1"
      },
      "source": [
        "## Test set"
      ]
    },
    {
      "cell_type": "code",
      "metadata": {
        "colab": {
          "base_uri": "https://localhost:8080/"
        },
        "id": "Jm-cz-vyb5jU",
        "outputId": "ba19ac4a-d59f-4ddd-e69e-645755463153"
      },
      "source": [
        "test_processing = keras.preprocessing.image.ImageDataGenerator(preprocessing_function=xception.preprocess_input)\r\n",
        "test_generator = test_processing.flow_from_directory(\r\n",
        "        directory=base_path+'test',\r\n",
        "        target_size=(224, 224),\r\n",
        "        color_mode=\"rgb\",\r\n",
        "        batch_size=32,\r\n",
        "        class_mode=\"categorical\",\r\n",
        "        shuffle=True\r\n",
        ")"
      ],
      "execution_count": null,
      "outputs": [
        {
          "output_type": "stream",
          "text": [
            "Found 4544 images belonging to 102 classes.\n"
          ],
          "name": "stdout"
        }
      ]
    },
    {
      "cell_type": "markdown",
      "metadata": {
        "id": "M55_Eclbcp6E"
      },
      "source": [
        "# Xception model\r\n",
        "https://keras.io/applications/"
      ]
    },
    {
      "cell_type": "code",
      "metadata": {
        "id": "pTRAr9HJHIxp"
      },
      "source": [
        "xception_model = xception.Xception(include_top=False, weights='imagenet', input_shape=(224,224,3), pooling='avg')"
      ],
      "execution_count": null,
      "outputs": []
    },
    {
      "cell_type": "code",
      "metadata": {
        "colab": {
          "base_uri": "https://localhost:8080/"
        },
        "id": "QaY-Dh2LHI1c",
        "outputId": "0cea5535-b2f3-4989-f0d5-6b2950c6625a"
      },
      "source": [
        "# Number of layers\r\n",
        "len(xception_model.layers)"
      ],
      "execution_count": null,
      "outputs": [
        {
          "output_type": "execute_result",
          "data": {
            "text/plain": [
              "133"
            ]
          },
          "metadata": {
            "tags": []
          },
          "execution_count": 49
        }
      ]
    },
    {
      "cell_type": "code",
      "metadata": {
        "id": "1u01s0NvHI6t"
      },
      "source": [
        "# Freezing layer learning\r\n",
        "for layer in xception_model.layers:\r\n",
        "    layer.trainable = False"
      ],
      "execution_count": null,
      "outputs": []
    },
    {
      "cell_type": "markdown",
      "metadata": {
        "id": "SOL-2mAeKdrr"
      },
      "source": [
        "# Modification and fitting of the model\r\n",
        "\r\n",
        "https://keras.io/api/callbacks/early_stopping/\r\n",
        "\r\n",
        "Stop training when a monitored metric has stopped improving.\r\n",
        "\r\n",
        "Assuming the goal of a training is to minimize the loss. With this, the metric to be monitored would be 'loss', and mode would be 'min'."
      ]
    },
    {
      "cell_type": "code",
      "metadata": {
        "id": "CL70bMSXHI9C"
      },
      "source": [
        "# Output of the base model\r\n",
        "x = xception_model.output\r\n",
        "# New intermediate fully-connected layer + ReLU\r\n",
        "x = keras.layers.Dense(1024, activation='relu')(x)\r\n",
        "# New (final) fully-connected layer + SoftMax activation\r\n",
        "pred = keras.layers.Dense(102, activation='softmax')(x)\r\n",
        "\r\n",
        "# Specialized model\r\n",
        "net = keras.Model(inputs=xception_model.input, outputs=pred)\r\n",
        "\r\n",
        "\r\n",
        "# Early Stopping per evitare l'overfit del modello e stoppare le epoche in automatico\r\n",
        "es = callbacks.EarlyStopping(monitor='val_loss',\r\n",
        "                             min_delta=0,\r\n",
        "                             patience=2,\r\n",
        "                             verbose=0, mode='auto')\r\n",
        "\r\n",
        "# Compile the model for training\r\n",
        "net.compile(loss=keras.losses.categorical_crossentropy,\r\n",
        "            optimizer=keras.optimizers.RMSprop(),\r\n",
        "            metrics=['accuracy'])"
      ],
      "execution_count": null,
      "outputs": []
    },
    {
      "cell_type": "code",
      "metadata": {
        "colab": {
          "base_uri": "https://localhost:8080/"
        },
        "id": "6qYXbx_aJiY6",
        "outputId": "1cc571f4-2ba4-4169-aa9c-d1ae71f79574"
      },
      "source": [
        "# Model training\r\n",
        "history = net.fit(train_generator,\r\n",
        "                  epochs=100,\r\n",
        "                  validation_data=test_generator,\r\n",
        "                  callbacks = [es]);"
      ],
      "execution_count": null,
      "outputs": [
        {
          "output_type": "stream",
          "text": [
            "Epoch 1/100\n",
            "144/144 [==============================] - 50s 330ms/step - loss: 1.9629 - accuracy: 0.5900 - val_loss: 0.5297 - val_accuracy: 0.8523\n",
            "Epoch 2/100\n",
            "144/144 [==============================] - 45s 310ms/step - loss: 0.2690 - accuracy: 0.9169 - val_loss: 0.5074 - val_accuracy: 0.8691\n",
            "Epoch 3/100\n",
            "144/144 [==============================] - 46s 320ms/step - loss: 0.1365 - accuracy: 0.9589 - val_loss: 0.5024 - val_accuracy: 0.8779\n",
            "Epoch 4/100\n",
            "144/144 [==============================] - 45s 315ms/step - loss: 0.0858 - accuracy: 0.9732 - val_loss: 0.5054 - val_accuracy: 0.8926\n",
            "Epoch 5/100\n",
            "144/144 [==============================] - 46s 319ms/step - loss: 0.0577 - accuracy: 0.9827 - val_loss: 0.4714 - val_accuracy: 0.9045\n",
            "Epoch 6/100\n",
            "144/144 [==============================] - 45s 316ms/step - loss: 0.0517 - accuracy: 0.9861 - val_loss: 0.5691 - val_accuracy: 0.8933\n",
            "Epoch 7/100\n",
            "144/144 [==============================] - 46s 319ms/step - loss: 0.0471 - accuracy: 0.9858 - val_loss: 0.5910 - val_accuracy: 0.8985\n"
          ],
          "name": "stdout"
        }
      ]
    },
    {
      "cell_type": "code",
      "metadata": {
        "colab": {
          "base_uri": "https://localhost:8080/"
        },
        "id": "AGXQTW0nJibb",
        "outputId": "70a872f9-2539-404f-de59-8c13331de246"
      },
      "source": [
        "net.evaluate(test_generator)"
      ],
      "execution_count": null,
      "outputs": [
        {
          "output_type": "stream",
          "text": [
            "142/142 [==============================] - 23s 160ms/step - loss: 0.5910 - accuracy: 0.8985\n"
          ],
          "name": "stdout"
        },
        {
          "output_type": "execute_result",
          "data": {
            "text/plain": [
              "[0.5910328030586243, 0.8985475301742554]"
            ]
          },
          "metadata": {
            "tags": []
          },
          "execution_count": 53
        }
      ]
    },
    {
      "cell_type": "code",
      "metadata": {
        "colab": {
          "base_uri": "https://localhost:8080/",
          "height": 442
        },
        "id": "MUsqtzGNJid4",
        "outputId": "10b58795-2800-46d2-bc7d-af0e3db2eaf8"
      },
      "source": [
        "plt.figure(figsize=(15,7))\r\n",
        "ax1 = plt.subplot(121)\r\n",
        "plt.xlabel('Epochs')\r\n",
        "plt.ylabel('Loss')\r\n",
        "ax1.plot(history.history['loss'])\r\n",
        "ax1.plot(history.history['val_loss'])\r\n",
        "ax1.legend(['Training', 'Validation'])\r\n",
        "\r\n",
        "ax2 = plt.subplot(122)\r\n",
        "plt.xlabel('Epochs')\r\n",
        "plt.ylabel('Accuracy')\r\n",
        "ax2.plot(history.history['accuracy'])\r\n",
        "ax2.plot(history.history['val_accuracy'])\r\n",
        "ax2.legend(['Training', 'Validation'], loc='lower right')\r\n",
        "plt.show()"
      ],
      "execution_count": null,
      "outputs": [
        {
          "output_type": "display_data",
          "data": {
            "image/png": "[encoded data removed]",
            "text/plain": [
              "<Figure size 1080x504 with 2 Axes>"
            ]
          },
          "metadata": {
            "tags": [],
            "needs_background": "light"
          }
        }
      ]
    },
    {
      "cell_type": "markdown",
      "metadata": {
        "id": "N9MI7b_8ctY_"
      },
      "source": [
        "# Training with Data Augmentation"
      ]
    },
    {
      "cell_type": "code",
      "metadata": {
        "colab": {
          "base_uri": "https://localhost:8080/"
        },
        "id": "-sE-dExkZtxA",
        "outputId": "0a8fb63d-3ea9-4587-f9d0-214ca8d6a0d0"
      },
      "source": [
        "# Image transformations\r\n",
        "train_processing_aug = keras.preprocessing.image.ImageDataGenerator(rotation_range=30, brightness_range=[0.4,1.4],\r\n",
        "                                                                horizontal_flip=True, vertical_flip=True,\r\n",
        "                                                                zoom_range=[0.5,1.0],\r\n",
        "                                                                preprocessing_function=xception.preprocess_input)\r\n",
        "\r\n",
        "# Where to get the data and how to split them\r\n",
        "train_generator_aug = train_processing.flow_from_directory(\r\n",
        "        directory=base_path+'train',\r\n",
        "        target_size=(224, 224),\r\n",
        "        color_mode=\"rgb\",\r\n",
        "        batch_size=32,\r\n",
        "        class_mode=\"categorical\",\r\n",
        "        shuffle=True,\r\n",
        "        seed=1)"
      ],
      "execution_count": null,
      "outputs": [
        {
          "output_type": "stream",
          "text": [
            "Found 4600 images belonging to 102 classes.\n"
          ],
          "name": "stdout"
        }
      ]
    },
    {
      "cell_type": "code",
      "metadata": {
        "colab": {
          "base_uri": "https://localhost:8080/"
        },
        "id": "UcMIGJnjZtxD",
        "outputId": "9761dc49-ae4e-4062-9da4-636d1ba6e376"
      },
      "source": [
        "test_processing_aug = keras.preprocessing.image.ImageDataGenerator(preprocessing_function=xception.preprocess_input)\r\n",
        "test_generator_aug = test_processing.flow_from_directory(\r\n",
        "        directory=base_path+'test',\r\n",
        "        target_size=(224, 224),\r\n",
        "        color_mode=\"rgb\",\r\n",
        "        batch_size=32,\r\n",
        "        class_mode=\"categorical\",\r\n",
        "        shuffle=True\r\n",
        ")"
      ],
      "execution_count": null,
      "outputs": [
        {
          "output_type": "stream",
          "text": [
            "Found 4544 images belonging to 102 classes.\n"
          ],
          "name": "stdout"
        }
      ]
    },
    {
      "cell_type": "code",
      "metadata": {
        "id": "S7xoDNv8fwl3"
      },
      "source": [
        "xception_model = xception.Xception(include_top=False, weights='imagenet', input_shape=(224,224,3), pooling='avg')"
      ],
      "execution_count": null,
      "outputs": []
    },
    {
      "cell_type": "code",
      "metadata": {
        "colab": {
          "base_uri": "https://localhost:8080/"
        },
        "id": "XOVB4JW4fwl_",
        "outputId": "546426e3-b339-48e5-ceb6-fdd0cd32180a"
      },
      "source": [
        "# Number of layers\r\n",
        "len(xception_model.layers)"
      ],
      "execution_count": null,
      "outputs": [
        {
          "output_type": "execute_result",
          "data": {
            "text/plain": [
              "133"
            ]
          },
          "metadata": {
            "tags": []
          },
          "execution_count": 58
        }
      ]
    },
    {
      "cell_type": "code",
      "metadata": {
        "id": "NImntYDYfwmA"
      },
      "source": [
        "# Freezing layer learning\r\n",
        "for layer in xception_model.layers:\r\n",
        "    layer.trainable = False"
      ],
      "execution_count": null,
      "outputs": []
    },
    {
      "cell_type": "code",
      "metadata": {
        "id": "QvV55Y6FfwmA"
      },
      "source": [
        "# Output of the base model\r\n",
        "x = xception_model.output\r\n",
        "# New intermediate fully-connected layer + ReLU\r\n",
        "x = keras.layers.Dense(1024, activation='relu')(x)\r\n",
        "# New (final) fully-connected layer + SoftMax activation\r\n",
        "pred = keras.layers.Dense(102, activation='softmax')(x)\r\n",
        "\r\n",
        "# Specialized model\r\n",
        "net = keras.Model(inputs=xception_model.input, outputs=pred)\r\n",
        "\r\n",
        "\r\n",
        "# Early Stopping per evitare l'overfit del modello e stoppare le epoche in automatico\r\n",
        "es = callbacks.EarlyStopping(monitor='val_loss',\r\n",
        "                              min_delta=0,\r\n",
        "                              patience=2,\r\n",
        "                              verbose=0, mode='auto')\r\n",
        "\r\n",
        "# Compile the model for training\r\n",
        "net.compile(loss=keras.losses.categorical_crossentropy,\r\n",
        "            optimizer=keras.optimizers.RMSprop(),\r\n",
        "            metrics=['accuracy'])"
      ],
      "execution_count": null,
      "outputs": []
    },
    {
      "cell_type": "code",
      "metadata": {
        "colab": {
          "base_uri": "https://localhost:8080/"
        },
        "id": "FXYuYmWGfwmA",
        "outputId": "29e495f5-ac55-4e46-81b8-86dbb18e96ea"
      },
      "source": [
        "# Model training\r\n",
        "history = net.fit(train_generator_aug,\r\n",
        "                  epochs=100,\r\n",
        "                  validation_data = test_generator,\r\n",
        "                  callbacks = [es]);"
      ],
      "execution_count": null,
      "outputs": [
        {
          "output_type": "stream",
          "text": [
            "Epoch 1/100\n",
            "144/144 [==============================] - 49s 326ms/step - loss: 2.0570 - accuracy: 0.5825 - val_loss: 0.5475 - val_accuracy: 0.8473\n",
            "Epoch 2/100\n",
            "144/144 [==============================] - 45s 316ms/step - loss: 0.2734 - accuracy: 0.9200 - val_loss: 0.4945 - val_accuracy: 0.8682\n",
            "Epoch 3/100\n",
            "144/144 [==============================] - 46s 318ms/step - loss: 0.1254 - accuracy: 0.9601 - val_loss: 0.4972 - val_accuracy: 0.8856\n",
            "Epoch 4/100\n",
            "144/144 [==============================] - 46s 317ms/step - loss: 0.0703 - accuracy: 0.9817 - val_loss: 0.5197 - val_accuracy: 0.8886\n"
          ],
          "name": "stdout"
        }
      ]
    },
    {
      "cell_type": "code",
      "metadata": {
        "colab": {
          "base_uri": "https://localhost:8080/"
        },
        "id": "jvIXrfjOfwmB",
        "outputId": "07f8e8a0-583a-422a-a6dd-1ce07e807bea"
      },
      "source": [
        "net.evaluate(test_generator)"
      ],
      "execution_count": null,
      "outputs": [
        {
          "output_type": "stream",
          "text": [
            "142/142 [==============================] - 22s 158ms/step - loss: 0.5197 - accuracy: 0.8886\n"
          ],
          "name": "stdout"
        },
        {
          "output_type": "execute_result",
          "data": {
            "text/plain": [
              "[0.5197271108627319, 0.8886443376541138]"
            ]
          },
          "metadata": {
            "tags": []
          },
          "execution_count": 62
        }
      ]
    },
    {
      "cell_type": "code",
      "metadata": {
        "colab": {
          "base_uri": "https://localhost:8080/",
          "height": 442
        },
        "id": "PZvDBIhUfwmB",
        "outputId": "3fbfe9ce-a4e6-41c9-a023-fd6b095ee306"
      },
      "source": [
        "plt.figure(figsize=(15,7))\r\n",
        "ax1 = plt.subplot(121)\r\n",
        "plt.xlabel('Epochs')\r\n",
        "plt.ylabel('Loss')\r\n",
        "ax1.plot(history.history['loss'])\r\n",
        "ax1.plot(history.history['val_loss'])\r\n",
        "ax1.legend(['Training', 'Validation'])\r\n",
        "\r\n",
        "ax2 = plt.subplot(122)\r\n",
        "plt.xlabel('Epochs')\r\n",
        "plt.ylabel('Accuracy')\r\n",
        "ax2.plot(history.history['accuracy'])\r\n",
        "ax2.plot(history.history['val_accuracy'])\r\n",
        "ax2.legend(['Training', 'Validation'], loc='lower right')\r\n",
        "plt.show()"
      ],
      "execution_count": null,
      "outputs": [
        {
          "output_type": "display_data",
          "data": {
            "image/png": "[encoded data removed]",
            "text/plain": [
              "<Figure size 1080x504 with 2 Axes>"
            ]
          },
          "metadata": {
            "tags": [],
            "needs_background": "light"
          }
        }
      ]
    },
    {
      "cell_type": "markdown",
      "metadata": {
        "id": "_Uw9FAa4n2N-"
      },
      "source": [
        "# Conclusions\r\n",
        "The models are very similar with a minimal difference.  \r\n",
        "For the model without data Augmentation the accuracy is:\r\n",
        "1. train accuracy = 0.9858\r\n",
        "2. validation accuracy = 0.8985\r\n",
        "\r\n",
        "\r\n",
        "For the model with data Augmentation the accuracy is:\r\n",
        "1. train accuracy = 0.9817\r\n",
        "2. validation accuracy = 0.8886\r\n",
        "\r\n",
        "The best model is the one without data Augmentation even if they are practically identical.\r\n",
        "\r\n",
        "The use of models with data augmentation reduces the overfitting but it has slightly worse performances"
      ]
    }
  ]
}