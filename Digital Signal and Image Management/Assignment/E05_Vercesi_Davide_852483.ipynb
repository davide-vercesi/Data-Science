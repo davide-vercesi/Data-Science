{
  "nbformat": 4,
  "nbformat_minor": 0,
  "metadata": {
    "colab": {
      "name": "E05_Vercesi_Davide_852483.ipynb",
      "provenance": [],
      "collapsed_sections": [
        "n6YFsO2KqTS2",
        "cJHiJ8wQqxcB"
      ],
      "toc_visible": true
    },
    "kernelspec": {
      "name": "python3",
      "display_name": "Python 3"
    },
    "accelerator": "GPU"
  },
  "cells": [
    {
      "cell_type": "markdown",
      "metadata": {
        "id": "ugimNgrypn--"
      },
      "source": [
        "# Multilayer convolutional model\r\n",
        "\r\n",
        "Define, train, and evaluate the following architecture on the MNIST dataset, and on the CIFAR10 dataset:\r\n",
        "\r\n",
        "\r\n",
        "*   Explicit input layer\r\n",
        "*   Convolution (2D) with 32 3×3 filters\r\n",
        "*   ReLU\r\n",
        "*   Max pooling (2D) with one 2×2 filter\r\n",
        "*   Flattening\r\n",
        "*   Fully-connected mapping to 128 dimensions\r\n",
        "*   ReLU\r\n",
        "*   Fully-connected mapping to the final problem size\r\n",
        "\r\n"
      ]
    },
    {
      "cell_type": "code",
      "metadata": {
        "id": "dO_xAJgQpP7v",
        "colab": {
          "base_uri": "https://localhost:8080/"
        },
        "outputId": "17db91dc-3548-4144-a95e-b4e520f18335"
      },
      "source": [
        "import numpy as np\r\n",
        "from sklearn.metrics import classification_report, confusion_matrix\r\n",
        "\r\n",
        "from tensorflow import keras\r\n",
        "from tensorflow.keras.models import Sequential\r\n",
        "from tensorflow.keras.layers import Dense, Flatten, Conv2D, MaxPooling2D, Activation\r\n",
        "from tensorflow.keras.callbacks import EarlyStopping, ReduceLROnPlateau\r\n",
        "print(keras.__version__)\r\n",
        "\r\n",
        "import matplotlib.pyplot as plt\r\n"
      ],
      "execution_count": null,
      "outputs": [
        {
          "output_type": "stream",
          "text": [
            "2.4.0\n"
          ],
          "name": "stdout"
        }
      ]
    },
    {
      "cell_type": "markdown",
      "metadata": {
        "id": "n6YFsO2KqTS2"
      },
      "source": [
        "# Data loading MNIST"
      ]
    },
    {
      "cell_type": "code",
      "metadata": {
        "colab": {
          "base_uri": "https://localhost:8080/"
        },
        "id": "yL9s3z4VqL7q",
        "outputId": "ee071780-5a04-422f-8d40-d45e3d4d3201"
      },
      "source": [
        "# Predefined dataset from Keras\r\n",
        "(x_train, y_train), (x_test, y_test) = keras.datasets.mnist.load_data()"
      ],
      "execution_count": null,
      "outputs": [
        {
          "output_type": "stream",
          "text": [
            "Downloading data from https://storage.googleapis.com/tensorflow/tf-keras-datasets/mnist.npz\n",
            "11493376/11490434 [==============================] - 0s 0us/step\n"
          ],
          "name": "stdout"
        }
      ]
    },
    {
      "cell_type": "markdown",
      "metadata": {
        "id": "cJHiJ8wQqxcB"
      },
      "source": [
        "# Input (images)"
      ]
    },
    {
      "cell_type": "code",
      "metadata": {
        "colab": {
          "base_uri": "https://localhost:8080/"
        },
        "id": "D9ZB9IeUqXiN",
        "outputId": "8f99c423-648d-4514-976b-37e39bf31fe6"
      },
      "source": [
        "print(x_train.shape[0], 'training examples')\r\n",
        "print(x_test.shape[0], 'test examples')"
      ],
      "execution_count": null,
      "outputs": [
        {
          "output_type": "stream",
          "text": [
            "60000 training examples\n",
            "10000 test examples\n"
          ],
          "name": "stdout"
        }
      ]
    },
    {
      "cell_type": "code",
      "metadata": {
        "colab": {
          "base_uri": "https://localhost:8080/"
        },
        "id": "V7Urchj8q1VT",
        "outputId": "5d8cf0f3-9566-457f-f693-e425a8034a1a"
      },
      "source": [
        "# Data shape\r\n",
        "x_train.shape"
      ],
      "execution_count": null,
      "outputs": [
        {
          "output_type": "execute_result",
          "data": {
            "text/plain": [
              "(60000, 28, 28)"
            ]
          },
          "metadata": {
            "tags": []
          },
          "execution_count": 4
        }
      ]
    },
    {
      "cell_type": "code",
      "metadata": {
        "colab": {
          "base_uri": "https://localhost:8080/",
          "height": 282
        },
        "id": "MBWME0dpq1YF",
        "outputId": "487a13cb-493f-4f30-cdcf-f59c44f58a23"
      },
      "source": [
        "# Visualizing an instance of the dataset\r\n",
        "plt.imshow(x_train[0], cmap='gray')"
      ],
      "execution_count": null,
      "outputs": [
        {
          "output_type": "execute_result",
          "data": {
            "text/plain": [
              "<matplotlib.image.AxesImage at 0x7f1b069470f0>"
            ]
          },
          "metadata": {
            "tags": []
          },
          "execution_count": 5
        },
        {
          "output_type": "display_data",
          "data": {
            "image/png": "[encoded data removed]",
            "text/plain": [
              "<Figure size 432x288 with 1 Axes>"
            ]
          },
          "metadata": {
            "tags": [],
            "needs_background": "light"
          }
        }
      ]
    },
    {
      "cell_type": "code",
      "metadata": {
        "colab": {
          "base_uri": "https://localhost:8080/"
        },
        "id": "hfiI5-R1q1al",
        "outputId": "55dfa846-05c0-4526-d1f0-880d1b270301"
      },
      "source": [
        "# Adding channel dimension\r\n",
        "# Reduce channel use np.squeeze \r\n",
        "x_train = np.expand_dims(x_train, axis=-1)\r\n",
        "x_test = np.expand_dims(x_test, axis=-1)\r\n",
        "x_train.shape"
      ],
      "execution_count": null,
      "outputs": [
        {
          "output_type": "execute_result",
          "data": {
            "text/plain": [
              "(60000, 28, 28, 1)"
            ]
          },
          "metadata": {
            "tags": []
          },
          "execution_count": 6
        }
      ]
    },
    {
      "cell_type": "code",
      "metadata": {
        "id": "a4pcCB-Cq1dZ"
      },
      "source": [
        "# Converting the data type\r\n",
        "x_train = x_train.astype('float32')/255.0\r\n",
        "x_test = x_test.astype('float32')/255.0"
      ],
      "execution_count": null,
      "outputs": []
    },
    {
      "cell_type": "code",
      "metadata": {
        "id": "yE44wDM2w1i6"
      },
      "source": [
        "# Converting to categorical form\r\n",
        "num_classes = 10\r\n",
        "yc_train = keras.utils.to_categorical(y_train, num_classes)\r\n",
        "yc_test = keras.utils.to_categorical(y_test, num_classes)"
      ],
      "execution_count": null,
      "outputs": []
    },
    {
      "cell_type": "markdown",
      "metadata": {
        "id": "rspy1_0arVnL"
      },
      "source": [
        "# Multilayer convolutional model"
      ]
    },
    {
      "cell_type": "code",
      "metadata": {
        "id": "nqWbi28dq1io"
      },
      "source": [
        "model = keras.Sequential()\r\n",
        "\r\n",
        "# Convolution (2D) with 32 3×3 filters\r\n",
        "model.add(Conv2D(32, (3,3), input_shape=x_train.shape[1:]))\r\n",
        "# ReLU\r\n",
        "model.add(Activation('relu'))\r\n",
        "# Max pooling (2D) with one 2×2 filter\r\n",
        "model.add(MaxPooling2D((2,2), strides=2))\r\n",
        "# Flattening\r\n",
        "model.add(Flatten())\r\n",
        "# Fully-connected mapping to 128 dimensions\r\n",
        "model.add(Dense(128))\r\n",
        "# ReLU\r\n",
        "model.add(Activation('relu'))\r\n",
        "# Fully-connected mapping to the final problem size\r\n",
        "model.add(Dense(num_classes))\r\n",
        "model.add(Activation('softmax'))\r\n",
        "\r\n",
        "\r\n",
        "\r\n",
        "# Model loss and optimizer\r\n",
        "model.compile(loss=keras.losses.categorical_crossentropy,\r\n",
        "              optimizer=keras.optimizers.Adadelta(learning_rate=0.05),\r\n",
        "              metrics=['accuracy'])"
      ],
      "execution_count": null,
      "outputs": []
    },
    {
      "cell_type": "markdown",
      "metadata": {
        "id": "-wYwuPrtfF2f"
      },
      "source": [
        "*   **loss= categorical_crossentropy**  \r\n",
        "Computes the categorical crossentropy loss. Use this crossentropy loss function when there are two or more label classes. We expect labels to be provided in a one_hot representation.\r\n",
        "*   **optimizer= Adadelta**  \r\n",
        "Adadelta optimization is a stochastic gradient descent method that is based on adaptive learning rate per dimension to address two drawbacks:  \r\n",
        " * The continual decay of learning rates throughout training  \r\n",
        " * The need for a manually selected global learning rate       \r\n",
        "\r\n",
        " Adadelta is a more robust extension of Adagrad that adapts learning rates based on a moving window of gradient updates, instead of accumulating all past gradients. This way, Adadelta continues learning even when many updates have been done. Compared to Adagrad, in the original version of Adadelta you don't have to set an initial learning rate. In this version, initial learning rate can be set, as in most other Keras optimizers.\r\n",
        "*  **metrics= accuracy**  \r\n",
        "Calculates how often predictions equal labels.\r\n",
        "\r\n",
        " This metric creates two local variables, total and count that are used to compute the frequency with which y_pred matches y_true. This frequency is ultimately returned as binary accuracy: an idempotent operation that simply divides total by count.\r\n"
      ]
    },
    {
      "cell_type": "code",
      "metadata": {
        "colab": {
          "base_uri": "https://localhost:8080/"
        },
        "id": "t8dzzv_oeOH1",
        "outputId": "941b4016-5551-4c3e-d2fd-aa1041d3e570"
      },
      "source": [
        "# Model training\r\n",
        "history= model.fit(x_train, yc_train,\r\n",
        "          batch_size=128,\r\n",
        "          epochs=10,\r\n",
        "          verbose=1,\r\n",
        "          validation_data=(x_test, yc_test));"
      ],
      "execution_count": null,
      "outputs": [
        {
          "output_type": "stream",
          "text": [
            "Epoch 1/10\n",
            "469/469 [==============================] - 2s 4ms/step - loss: 1.3626 - accuracy: 0.6660 - val_loss: 0.3495 - val_accuracy: 0.9031\n",
            "Epoch 2/10\n",
            "469/469 [==============================] - 2s 4ms/step - loss: 0.3320 - accuracy: 0.9065 - val_loss: 0.2694 - val_accuracy: 0.9246\n",
            "Epoch 3/10\n",
            "469/469 [==============================] - 2s 4ms/step - loss: 0.2684 - accuracy: 0.9242 - val_loss: 0.2353 - val_accuracy: 0.9339\n",
            "Epoch 4/10\n",
            "469/469 [==============================] - 2s 4ms/step - loss: 0.2411 - accuracy: 0.9308 - val_loss: 0.2151 - val_accuracy: 0.9405\n",
            "Epoch 5/10\n",
            "469/469 [==============================] - 2s 4ms/step - loss: 0.2118 - accuracy: 0.9397 - val_loss: 0.1897 - val_accuracy: 0.9449\n",
            "Epoch 6/10\n",
            "469/469 [==============================] - 2s 4ms/step - loss: 0.1916 - accuracy: 0.9453 - val_loss: 0.1679 - val_accuracy: 0.9513\n",
            "Epoch 7/10\n",
            "469/469 [==============================] - 2s 4ms/step - loss: 0.1703 - accuracy: 0.9512 - val_loss: 0.1552 - val_accuracy: 0.9557\n",
            "Epoch 8/10\n",
            "469/469 [==============================] - 2s 4ms/step - loss: 0.1578 - accuracy: 0.9545 - val_loss: 0.1422 - val_accuracy: 0.9596\n",
            "Epoch 9/10\n",
            "469/469 [==============================] - 2s 4ms/step - loss: 0.1395 - accuracy: 0.9611 - val_loss: 0.1295 - val_accuracy: 0.9633\n",
            "Epoch 10/10\n",
            "469/469 [==============================] - 2s 4ms/step - loss: 0.1293 - accuracy: 0.9644 - val_loss: 0.1212 - val_accuracy: 0.9652\n"
          ],
          "name": "stdout"
        }
      ]
    },
    {
      "cell_type": "code",
      "metadata": {
        "colab": {
          "base_uri": "https://localhost:8080/"
        },
        "id": "gY3I2l2weOKy",
        "outputId": "c9694929-61ae-4ec6-8a11-4e9cc1a5a850"
      },
      "source": [
        "# Evaluation\r\n",
        "score = model.evaluate(x_test, yc_test, verbose=0)\r\n",
        "print('Test loss:', score[0])\r\n",
        "print('Test accuracy:', score[1])"
      ],
      "execution_count": null,
      "outputs": [
        {
          "output_type": "stream",
          "text": [
            "Test loss: 0.121138796210289\n",
            "Test accuracy: 0.9664000272750854\n"
          ],
          "name": "stdout"
        }
      ]
    },
    {
      "cell_type": "markdown",
      "metadata": {
        "id": "Trv4mnVpmOfz"
      },
      "source": [
        "for the visualization of the accuracy and the loss I have followed this guide:  \r\n",
        "https://machinelearningmastery.com/display-deep-learning-model-training-history-in-keras/"
      ]
    },
    {
      "cell_type": "code",
      "metadata": {
        "colab": {
          "base_uri": "https://localhost:8080/",
          "height": 573
        },
        "id": "SuT1UG3keONz",
        "outputId": "9e692b78-cfde-444e-ee9e-d77baf829ec0"
      },
      "source": [
        "# summarize history for accuracy\r\n",
        "plt.plot(history.history['accuracy'])\r\n",
        "plt.plot(history.history['val_accuracy'])\r\n",
        "plt.title('model accuracy')\r\n",
        "plt.ylabel('accuracy')\r\n",
        "plt.xlabel('epoch')\r\n",
        "plt.legend(['train', 'test'], loc='upper left')\r\n",
        "plt.show()\r\n",
        "# summarize history for loss\r\n",
        "plt.plot(history.history['loss'])\r\n",
        "plt.plot(history.history['val_loss'])\r\n",
        "plt.title('model loss')\r\n",
        "plt.ylabel('loss')\r\n",
        "plt.xlabel('epoch')\r\n",
        "plt.legend(['train', 'test'], loc='upper left')\r\n",
        "plt.show()"
      ],
      "execution_count": null,
      "outputs": [
        {
          "output_type": "display_data",
          "data": {
            "image/png": "[encoded data removed]",
            "text/plain": [
              "<Figure size 432x288 with 1 Axes>"
            ]
          },
          "metadata": {
            "tags": [],
            "needs_background": "light"
          }
        },
        {
          "output_type": "display_data",
          "data": {
            "image/png": "[encoded data removed]",
            "text/plain": [
              "<Figure size 432x288 with 1 Axes>"
            ]
          },
          "metadata": {
            "tags": [],
            "needs_background": "light"
          }
        }
      ]
    },
    {
      "cell_type": "code",
      "metadata": {
        "id": "BSkMyPhDbAMd"
      },
      "source": [
        "# Inference\r\n",
        "yc_pred = model.predict(x_test)"
      ],
      "execution_count": null,
      "outputs": []
    },
    {
      "cell_type": "code",
      "metadata": {
        "id": "ts_R2l-qV55Y"
      },
      "source": [
        "# Selection of the highest-probability class for each test sample\r\n",
        "y_pred = np.argmax(yc_pred, axis=1)"
      ],
      "execution_count": null,
      "outputs": []
    },
    {
      "cell_type": "code",
      "metadata": {
        "colab": {
          "base_uri": "https://localhost:8080/",
          "height": 775
        },
        "id": "t_8q5t95V57_",
        "outputId": "f4acc884-0d40-4738-e1f6-b8c3f5bcabc0"
      },
      "source": [
        "# Classification report\r\n",
        "print('Classification report:')\r\n",
        "print(classification_report(y_test, y_pred))\r\n",
        "\r\n",
        "# Confusion matrix\r\n",
        "print('Confusion matrix:')\r\n",
        "cm = confusion_matrix(y_test, y_pred)\r\n",
        "print(cm)\r\n",
        "plt.imshow(cm, cmap=plt.cm.Blues)"
      ],
      "execution_count": null,
      "outputs": [
        {
          "output_type": "stream",
          "text": [
            "Classification report:\n",
            "              precision    recall  f1-score   support\n",
            "\n",
            "           0       0.96      0.99      0.97       980\n",
            "           1       0.99      0.99      0.99      1135\n",
            "           2       0.98      0.95      0.96      1032\n",
            "           3       0.95      0.97      0.96      1010\n",
            "           4       0.97      0.97      0.97       982\n",
            "           5       0.97      0.96      0.96       892\n",
            "           6       0.97      0.97      0.97       958\n",
            "           7       0.96      0.96      0.96      1028\n",
            "           8       0.95      0.95      0.95       974\n",
            "           9       0.96      0.94      0.95      1009\n",
            "\n",
            "    accuracy                           0.97     10000\n",
            "   macro avg       0.96      0.96      0.96     10000\n",
            "weighted avg       0.97      0.97      0.97     10000\n",
            "\n",
            "Confusion matrix:\n",
            "[[ 969    0    1    1    0    2    3    2    2    0]\n",
            " [   0 1118    3    1    0    1    4    1    7    0]\n",
            " [   8    2  978   12    4    0    4   10   13    1]\n",
            " [   0    0    3  979    1    8    0    6   10    3]\n",
            " [   1    0    3    0  955    0    5    2    2   14]\n",
            " [   7    1    0   11    0  856    6    2    7    2]\n",
            " [   9    2    0    1    5    9  927    1    4    0]\n",
            " [   0    3   13    4    3    1    0  990    3   11]\n",
            " [   7    1    0   11    4    5    5    6  930    5]\n",
            " [   8    6    1   11   14    3    1    9    6  950]]\n"
          ],
          "name": "stdout"
        },
        {
          "output_type": "execute_result",
          "data": {
            "text/plain": [
              "<matplotlib.image.AxesImage at 0x7f1aa66db4e0>"
            ]
          },
          "metadata": {
            "tags": []
          },
          "execution_count": 46
        },
        {
          "output_type": "display_data",
          "data": {
            "image/png": "[encoded data removed]",
            "text/plain": [
              "<Figure size 432x288 with 1 Axes>"
            ]
          },
          "metadata": {
            "tags": [],
            "needs_background": "light"
          }
        }
      ]
    },
    {
      "cell_type": "markdown",
      "metadata": {
        "id": "J0wE0aEynLTp"
      },
      "source": [
        "The result is very good, the accuracy is 0.97. The model commits the biggest error in the classification of 4 where it is often confused with the number 9, however it is a satisfactory result given the low number of times it has been confused."
      ]
    },
    {
      "cell_type": "markdown",
      "metadata": {
        "id": "TZq_zqaaolIJ"
      },
      "source": [
        "# Data loading CIFAR10\r\n",
        "The CIFAR-10 dataset consists of 60000 32x32 colour images in 10 classes, with 6000 images per class. There are 50000 training images and 10000 test images.\r\n",
        "\r\n",
        "The dataset is divided into five training batches and one test batch, each with 10000 images. The test batch contains exactly 1000 randomly-selected images from each class. The training batches contain the remaining images in random order, but some training batches may contain more images from one class than another. Between them, the training batches contain exactly 5000 images from each class."
      ]
    },
    {
      "cell_type": "code",
      "metadata": {
        "colab": {
          "base_uri": "https://localhost:8080/"
        },
        "id": "hnPca8rxo5Bk",
        "outputId": "2f14a593-5f9f-450f-d7f4-5f70b0b7a827"
      },
      "source": [
        "# Predefined dataset from Keras\r\n",
        "(x_train, y_train), (x_test, y_test) = keras.datasets.cifar10.load_data()"
      ],
      "execution_count": null,
      "outputs": [
        {
          "output_type": "stream",
          "text": [
            "Downloading data from https://www.cs.toronto.edu/~kriz/cifar-10-python.tar.gz\n",
            "170500096/170498071 [==============================] - 4s 0us/step\n"
          ],
          "name": "stdout"
        }
      ]
    },
    {
      "cell_type": "markdown",
      "metadata": {
        "id": "eLyhrZwXo5Bn"
      },
      "source": [
        "# Input (images)"
      ]
    },
    {
      "cell_type": "code",
      "metadata": {
        "colab": {
          "base_uri": "https://localhost:8080/"
        },
        "id": "JpwI2J47o5Bn",
        "outputId": "e77fce3f-a9b1-4a58-f9fe-d8e10aaf7b7b"
      },
      "source": [
        "print(x_train.shape[0], 'training examples')\r\n",
        "print(x_test.shape[0], 'test examples')"
      ],
      "execution_count": null,
      "outputs": [
        {
          "output_type": "stream",
          "text": [
            "50000 training examples\n",
            "10000 test examples\n"
          ],
          "name": "stdout"
        }
      ]
    },
    {
      "cell_type": "code",
      "metadata": {
        "colab": {
          "base_uri": "https://localhost:8080/"
        },
        "id": "Cx-33KW_o5Bn",
        "outputId": "aac434a2-d0e5-43fe-9ab6-d90865ae7a9e"
      },
      "source": [
        "# Data shape\r\n",
        "x_train.shape"
      ],
      "execution_count": null,
      "outputs": [
        {
          "output_type": "execute_result",
          "data": {
            "text/plain": [
              "(50000, 32, 32, 3)"
            ]
          },
          "metadata": {
            "tags": []
          },
          "execution_count": 61
        }
      ]
    },
    {
      "cell_type": "code",
      "metadata": {
        "colab": {
          "base_uri": "https://localhost:8080/",
          "height": 283
        },
        "id": "JEWUzCQ8o5Bo",
        "outputId": "f51bfcdf-089b-4940-d9f4-2e475f677325"
      },
      "source": [
        "# Visualizing an instance of the dataset\r\n",
        "plt.imshow(x_train[0], cmap='gray')"
      ],
      "execution_count": null,
      "outputs": [
        {
          "output_type": "execute_result",
          "data": {
            "text/plain": [
              "<matplotlib.image.AxesImage at 0x7f1af0051748>"
            ]
          },
          "metadata": {
            "tags": []
          },
          "execution_count": 62
        },
        {
          "output_type": "display_data",
          "data": {
            "image/png": "[encoded data removed]",
            "text/plain": [
              "<Figure size 432x288 with 1 Axes>"
            ]
          },
          "metadata": {
            "tags": [],
            "needs_background": "light"
          }
        }
      ]
    },
    {
      "cell_type": "code",
      "metadata": {
        "id": "s5CDOl2to5Bo"
      },
      "source": [
        "# Converting the data type\r\n",
        "x_train = x_train.astype('float32')/255.0\r\n",
        "x_test = x_test.astype('float32')/255.0"
      ],
      "execution_count": null,
      "outputs": []
    },
    {
      "cell_type": "code",
      "metadata": {
        "id": "egHMmg9lo5Bo"
      },
      "source": [
        "# Converting to categorical form\r\n",
        "num_classes = 10\r\n",
        "yc_train = keras.utils.to_categorical(y_train, num_classes)\r\n",
        "yc_test = keras.utils.to_categorical(y_test, num_classes)"
      ],
      "execution_count": null,
      "outputs": []
    },
    {
      "cell_type": "markdown",
      "metadata": {
        "id": "l5Td08wvp1Qd"
      },
      "source": [
        "# Multilayer convolutional model"
      ]
    },
    {
      "cell_type": "code",
      "metadata": {
        "id": "EcPZomgwp1Qg"
      },
      "source": [
        "model = keras.Sequential()\r\n",
        "\r\n",
        "# Convolution (2D) with 32 3×3 filters\r\n",
        "model.add(Conv2D(32, (3,3), input_shape=x_train.shape[1:]))\r\n",
        "# ReLU\r\n",
        "model.add(Activation('relu'))\r\n",
        "# Max pooling (2D) with one 2×2 filter\r\n",
        "model.add(MaxPooling2D((2,2), strides=2))\r\n",
        "# Flattening\r\n",
        "model.add(Flatten())\r\n",
        "# Fully-connected mapping to 128 dimensions\r\n",
        "model.add(Dense(128))\r\n",
        "# ReLU\r\n",
        "model.add(Activation('relu'))\r\n",
        "# Fully-connected mapping to the final problem size\r\n",
        "model.add(Dense(num_classes))\r\n",
        "model.add(Activation('softmax'))\r\n",
        "\r\n",
        "\r\n",
        "\r\n",
        "# Model loss and optimizer\r\n",
        "model.compile(loss=keras.losses.categorical_crossentropy,\r\n",
        "              optimizer=keras.optimizers.Adadelta(learning_rate=0.05),\r\n",
        "              metrics=['accuracy'])"
      ],
      "execution_count": null,
      "outputs": []
    },
    {
      "cell_type": "code",
      "metadata": {
        "colab": {
          "base_uri": "https://localhost:8080/"
        },
        "id": "xO4rbfAVp1Qg",
        "outputId": "36401731-aa2c-46eb-8ec3-0b527e9c9eb3"
      },
      "source": [
        "# Model training\r\n",
        "history= model.fit(x_train, yc_train,\r\n",
        "          batch_size=128,\r\n",
        "          epochs=10,\r\n",
        "          verbose=1,\r\n",
        "          validation_data=(x_test, yc_test));"
      ],
      "execution_count": null,
      "outputs": [
        {
          "output_type": "stream",
          "text": [
            "Epoch 1/10\n",
            "391/391 [==============================] - 2s 5ms/step - loss: 2.3024 - accuracy: 0.1087 - val_loss: 2.3022 - val_accuracy: 0.1162\n",
            "Epoch 2/10\n",
            "391/391 [==============================] - 2s 4ms/step - loss: 2.3022 - accuracy: 0.1078 - val_loss: 2.3021 - val_accuracy: 0.1135\n",
            "Epoch 3/10\n",
            "391/391 [==============================] - 2s 5ms/step - loss: 2.3021 - accuracy: 0.1151 - val_loss: 2.3019 - val_accuracy: 0.1516\n",
            "Epoch 4/10\n",
            "391/391 [==============================] - 2s 4ms/step - loss: 2.3019 - accuracy: 0.1360 - val_loss: 2.3016 - val_accuracy: 0.1707\n",
            "Epoch 5/10\n",
            "391/391 [==============================] - 2s 4ms/step - loss: 2.3016 - accuracy: 0.1436 - val_loss: 2.3013 - val_accuracy: 0.1477\n",
            "Epoch 6/10\n",
            "391/391 [==============================] - 2s 5ms/step - loss: 2.3012 - accuracy: 0.1526 - val_loss: 2.3009 - val_accuracy: 0.1912\n",
            "Epoch 7/10\n",
            "391/391 [==============================] - 2s 5ms/step - loss: 2.3008 - accuracy: 0.1658 - val_loss: 2.3003 - val_accuracy: 0.2159\n",
            "Epoch 8/10\n",
            "391/391 [==============================] - 2s 4ms/step - loss: 2.3002 - accuracy: 0.1850 - val_loss: 2.2995 - val_accuracy: 0.2230\n",
            "Epoch 9/10\n",
            "391/391 [==============================] - 2s 5ms/step - loss: 2.2994 - accuracy: 0.1918 - val_loss: 2.2985 - val_accuracy: 0.2397\n",
            "Epoch 10/10\n",
            "391/391 [==============================] - 2s 4ms/step - loss: 2.2983 - accuracy: 0.2065 - val_loss: 2.2971 - val_accuracy: 0.2114\n"
          ],
          "name": "stdout"
        }
      ]
    },
    {
      "cell_type": "code",
      "metadata": {
        "colab": {
          "base_uri": "https://localhost:8080/"
        },
        "id": "iDIduzmmp1Qh",
        "outputId": "113218aa-efc9-44a7-917a-54111d5014d4"
      },
      "source": [
        "# Evaluation\r\n",
        "score = model.evaluate(x_test, yc_test, verbose=0)\r\n",
        "print('Test loss:', score[0])\r\n",
        "print('Test accuracy:', score[1])"
      ],
      "execution_count": null,
      "outputs": [
        {
          "output_type": "stream",
          "text": [
            "Test loss: 2.297126531600952\n",
            "Test accuracy: 0.21140000224113464\n"
          ],
          "name": "stdout"
        }
      ]
    },
    {
      "cell_type": "code",
      "metadata": {
        "colab": {
          "base_uri": "https://localhost:8080/",
          "height": 573
        },
        "id": "TXifrEEgp1Qh",
        "outputId": "dbb9673a-7a2d-40bc-a9f8-87806a62857f"
      },
      "source": [
        "# summarize history for accuracy\r\n",
        "plt.plot(history.history['accuracy'])\r\n",
        "plt.plot(history.history['val_accuracy'])\r\n",
        "plt.title('model accuracy')\r\n",
        "plt.ylabel('accuracy')\r\n",
        "plt.xlabel('epoch')\r\n",
        "plt.legend(['train', 'test'], loc='upper left')\r\n",
        "plt.show()\r\n",
        "# summarize history for loss\r\n",
        "plt.plot(history.history['loss'])\r\n",
        "plt.plot(history.history['val_loss'])\r\n",
        "plt.title('model loss')\r\n",
        "plt.ylabel('loss')\r\n",
        "plt.xlabel('epoch')\r\n",
        "plt.legend(['train', 'test'], loc='upper left')\r\n",
        "plt.show()"
      ],
      "execution_count": null,
      "outputs": [
        {
          "output_type": "display_data",
          "data": {
            "image/png": "[encoded data removed]",
            "text/plain": [
              "<Figure size 432x288 with 1 Axes>"
            ]
          },
          "metadata": {
            "tags": [],
            "needs_background": "light"
          }
        },
        {
          "output_type": "display_data",
          "data": {
            "image/png": "[encoded data removed]",
            "text/plain": [
              "<Figure size 432x288 with 1 Axes>"
            ]
          },
          "metadata": {
            "tags": [],
            "needs_background": "light"
          }
        }
      ]
    },
    {
      "cell_type": "code",
      "metadata": {
        "id": "uRpYRcFfp1Qh"
      },
      "source": [
        "# Inference\r\n",
        "yc_pred = model.predict(x_test)"
      ],
      "execution_count": null,
      "outputs": []
    },
    {
      "cell_type": "code",
      "metadata": {
        "id": "5b0wFXetp1Qi"
      },
      "source": [
        "# Selection of the highest-probability class for each test sample\r\n",
        "y_pred = np.argmax(yc_pred, axis=1)"
      ],
      "execution_count": null,
      "outputs": []
    },
    {
      "cell_type": "code",
      "metadata": {
        "colab": {
          "base_uri": "https://localhost:8080/",
          "height": 829
        },
        "id": "ToNAfI-Wp1Qi",
        "outputId": "30c7c030-1a78-4850-86d7-fb5ea104b230"
      },
      "source": [
        "# Classification report\r\n",
        "print('Classification report:')\r\n",
        "print(classification_report(y_test, y_pred))\r\n",
        "\r\n",
        "# Confusion matrix\r\n",
        "print('Confusion matrix:')\r\n",
        "cm = confusion_matrix(y_test, y_pred)\r\n",
        "print(cm)\r\n",
        "plt.imshow(cm, cmap=plt.cm.Blues)"
      ],
      "execution_count": null,
      "outputs": [
        {
          "output_type": "stream",
          "text": [
            "Classification report:\n",
            "              precision    recall  f1-score   support\n",
            "\n",
            "           0       0.31      0.46      0.37      1000\n",
            "           1       0.40      0.01      0.02      1000\n",
            "           2       0.00      0.00      0.00      1000\n",
            "           3       0.12      0.58      0.20      1000\n",
            "           4       0.00      0.00      0.00      1000\n",
            "           5       0.33      0.04      0.07      1000\n",
            "           6       0.23      0.35      0.27      1000\n",
            "           7       0.00      0.00      0.00      1000\n",
            "           8       0.44      0.19      0.26      1000\n",
            "           9       0.28      0.48      0.35      1000\n",
            "\n",
            "    accuracy                           0.21     10000\n",
            "   macro avg       0.21      0.21      0.16     10000\n",
            "weighted avg       0.21      0.21      0.16     10000\n",
            "\n",
            "Confusion matrix:\n",
            "[[463   0   0 285   0   1  44   0  78 129]\n",
            " [101  10   0 409   0   7 186   0  53 234]\n",
            " [190   1   0 522   0   7 198   0  10  72]\n",
            " [111   0   0 576   0  26 185   0   4  98]\n",
            " [ 59   0   0 595   0   9 254   0   5  78]\n",
            " [115   1   0 620   0  42 138   0  12  72]\n",
            " [ 71   0   0 497   0  15 352   0   0  65]\n",
            " [ 99   3   0 529   0  14 105   0  17 233]\n",
            " [179   8   0 295   0   6  40   0 188 284]\n",
            " [ 96   2   0 293   0   1  62   0  63 483]]\n"
          ],
          "name": "stdout"
        },
        {
          "output_type": "stream",
          "text": [
            "/usr/local/lib/python3.6/dist-packages/sklearn/metrics/_classification.py:1272: UndefinedMetricWarning: Precision and F-score are ill-defined and being set to 0.0 in labels with no predicted samples. Use `zero_division` parameter to control this behavior.\n",
            "  _warn_prf(average, modifier, msg_start, len(result))\n"
          ],
          "name": "stderr"
        },
        {
          "output_type": "execute_result",
          "data": {
            "text/plain": [
              "<matplotlib.image.AxesImage at 0x7f1aae27de80>"
            ]
          },
          "metadata": {
            "tags": []
          },
          "execution_count": 71
        },
        {
          "output_type": "display_data",
          "data": {
            "image/png": "[encoded data removed]",
            "text/plain": [
              "<Figure size 432x288 with 1 Axes>"
            ]
          },
          "metadata": {
            "tags": [],
            "needs_background": "light"
          }
        }
      ]
    },
    {
      "cell_type": "markdown",
      "metadata": {
        "id": "pjJe24kOJblu"
      },
      "source": [
        "The result is not at all satisfactory, practically all the images are classified in the third category. This result could be due to the small number of images in the CIFAR10 dataset."
      ]
    }
  ]
}