{
 "cells": [
  {
   "cell_type": "markdown",
   "metadata": {},
   "source": [
    "# TIK TOK API SCRIPT"
   ]
  },
  {
   "cell_type": "markdown",
   "metadata": {},
   "source": [
    "> In questo script è presente il codice per effettuare la richiesta dei post dei 200 influencer riportati in una lista. Per ogni nome è stata effettuata una richiesta tramite API REST e le informazioni di ciascun utente sono state memorizzate nel file post_2020.csv"
   ]
  },
  {
   "cell_type": "markdown",
   "metadata": {},
   "source": [
    "<img src=\"https://logos-world.net/wp-content/uploads/2020/04/TikTok-Emblema.png\" width=\"50%\" />"
   ]
  },
  {
   "cell_type": "code",
   "execution_count": null,
   "metadata": {},
   "outputs": [],
   "source": [
    "import pandas as pd\n",
    "import requests\n",
    "import json \n",
    "import re"
   ]
  },
  {
   "cell_type": "code",
   "execution_count": 29,
   "metadata": {},
   "outputs": [],
   "source": [
    "lista = [\"charlidamelio\",\"addisonre\",\"zachking\",\"lorengray\",\"spencerx\",\"justmaiko\",\"dixiedamelio\",\n",
    "         \"babyariel\",\"brentrivera\", \"itsjojosiwa\",\"flighthouse\",\"avani\",\"stokestwins\",\"jamescharles\",\n",
    "         \"joealbanese\",\"dobretwins\",\"lilhuddy\",\"kristenhancher\",\"lizzza\",\"jacobsartorius\",\"daviddobrik\",\n",
    "         \"livetv\",\"savv.labrant\",\"kirakosarin\",\"joshrichards\",\"jiffpom\",\"jasoncoffee\",\"kodyantle\",\n",
    "         \"laurengodwin\",\"kingbach\",\"mackenzieziegler\",\"thehypehouse\",\"daniellecohn\",\"joeyklaasen\",\n",
    "         \"wigofellas\",\"hannahstocking\",\"topperguild\",\"qpark\",\"camerondallas\",\"zoelaverne\",\n",
    "         \"thesupercole\",\"larrayeeee\",\"lelepons\",\"jonklaasen\",\"annieleblanc\",\"cashbaker\",\"thecardguy\",\"officialsalicerose\",\n",
    "         \"itstaylerholder\",\"rominagafur\",\"seandoesmagic\",\"brycehall\",\"rebeccazamolo\",\"lance210\",\"derkslurp\",\"rosssmith\",\n",
    "         \"lexibrookerivera\",\"demibagby\",\"austinsprinz\",\"payton\",\"noahschnapp\",\"itsnastynaz\",\"overtime\",\"alexwaarren\",\n",
    "         \"peytoncoffee\",\"memes\",\"maverickbaker\",\"eliottbrown\",\"madisonbeer\",\"nickandsienna\",\"mrbeast\",\"k0uvr\",\n",
    "         \"sebastianbails\",\"brookemonk_\",\"jakepaul\",\"madi\",\"donaldducc\",\"nessaabarrett\",\"arianalee99\",\n",
    "         \"barstoolsports\",\"benazelart\",\"marcusolin\",\"dudeperfect\",\"loganpaul\",\"noeneubanks\",\"beasteater\",\n",
    "         \"mirandasings\",\"lianev\",'germangarmendia','candyken','nathantriska','dtay.known','luvanthony',\n",
    "       'dednahype','dominictoliver','marimariamakeup','real.ona','aydonholley','wewearcute','tommyunold',\n",
    "       'mariahandbill','adamw','javiluna','datrie','katjaglieson','dangmattsmith','auditydraws',\n",
    "       'amandacerny','mychaelade','friendlyquest','thunthunskittles','imgriffinjohnson',\n",
    "       'jordynjones','nickaustinn','arii','king.science','sarati','olivermoy','lankybox',\n",
    "       'onlyjayus','sand.tagious','ashleynocera','itsjonathanle','markanastasio','cheekyboyos','malutrevejo',\n",
    "       'jadenhossler','sofiedossi','marrkadams','karolg','emmachamberlain','jaydenbartels','jadensprinz','kiocyrrr',\n",
    "       'hope_schwing','caseysimpson','sofiawylie','keliannestankus','officialhowiemandel','anwar','robbyandpenny','sommerray'\n",
    "       'jenna0rtega','thebrandonrobert','itsbsd','sssniperwolf000','andreswilley','itstoptiktoks','ash_lay','tyshonlawrence',\n",
    "       'petroutv','luismariz','sebastianmoy','leilaniii2','dakotaolave','destormpower','nickuhas',\n",
    "       'daquan','jake.pnw','kingkidjoshua','jeremyhutchins','enochtrue','aloha_halia','calebcoffee','elliezeiler',\n",
    "       'marcdamelio','carsonlueders','paigemackenzie','jelinuh','gageslife','haueterfamily',\n",
    "       'houseofhighlights','glitterandlazers','blakegray','cashandmav']"
   ]
  },
  {
   "cell_type": "code",
   "execution_count": null,
   "metadata": {},
   "outputs": [],
   "source": [
    "import time"
   ]
  },
  {
   "cell_type": "markdown",
   "metadata": {},
   "source": [
    "> Per evitare che il numero elevato di richieste superi il limite concesso è stato impostato un timer che ferma temporaneamente l'esecuzione del ciclo per 5 secondi."
   ]
  },
  {
   "cell_type": "code",
   "execution_count": null,
   "metadata": {},
   "outputs": [],
   "source": [
    "\n",
    "for name in new_names[150:]:\n",
    "        # Wait for 5 seconds\n",
    "    time.sleep(5)\n",
    "    USERNAME = name\n",
    "    querystring = {\"username\":USERNAME,\"limit\":\"300\"}\n",
    "\n",
    "    headers = {\n",
    "        'x-rapidapi-key': \"key\",\n",
    "        'x-rapidapi-host': \"tiktok.p.rapidapi.com\"\n",
    "        }\n",
    "\n",
    "    response = requests.request(\"GET\", url, headers=headers, params=querystring)\n",
    "    \n",
    "    if response.status_code == 404:\n",
    "        print(\"---------------------------------\", name)\n",
    "        continue\n",
    "        \n",
    "\n",
    "    #print(response.text)\n",
    "    try:\n",
    "        \n",
    "        parsed_json = json.loads(response.text)\n",
    "        \n",
    "    except:\n",
    "        print(\"---------------------------------\", name)\n",
    "        continue\n",
    "    \n",
    "    print(name)\n",
    "\n",
    "    media= []\n",
    "    for x in parsed_json[\"media\"]:\n",
    "        media.append(x)\n",
    "        #print (x['author'][\"uniqueId\"])\n",
    "    \n",
    "    \n",
    "    feed_information = []\n",
    "    for x in (media):\n",
    "        thisdict = {\n",
    "            \"author_id\": x['author'][\"id\"],\n",
    "            \"author_name\": x['author'][\"uniqueId\"],\n",
    "            \"create_time\": x['create_time'],\n",
    "            \"video_id\": x['video_id'],\n",
    "            \"description\": x['description'],\n",
    "            \"duration\": x['video'][\"duration\"],\n",
    "            \"music_id\": x['music'][\"id\"],\n",
    "            \"music_title\": x['music'][\"title\"],\n",
    "            \"music_author\": x['music']['authorName'],\n",
    "            \"original_music\":x['music']['original'],\n",
    "            \"diggCount\": x['statistics'][\"diggCount\"],\n",
    "            \"shareCount\": x['statistics'][\"shareCount\"],\n",
    "            \"commentCount\": x['statistics'][\"commentCount\"],\n",
    "            \"playCount\": x['statistics'][\"playCount\"]\n",
    "\n",
    "        }\n",
    "        serie_app = pd.Series(thisdict)\n",
    "        feed_information.append(serie_app)\n",
    "    \n",
    "    df = pd.DataFrame(feed_information)\n",
    "    general_dataset = general_dataset.append(df)"
   ]
  },
  {
   "cell_type": "code",
   "execution_count": null,
   "metadata": {},
   "outputs": [],
   "source": [
    "general_dataset.to_csv(\"post_all_2020.csv\", index=False)"
   ]
  }
 ],
 "metadata": {
  "kernelspec": {
   "display_name": "Python 3",
   "language": "python",
   "name": "python3"
  },
  "language_info": {
   "codemirror_mode": {
    "name": "ipython",
    "version": 3
   },
   "file_extension": ".py",
   "mimetype": "text/x-python",
   "name": "python",
   "nbconvert_exporter": "python",
   "pygments_lexer": "ipython3",
   "version": "3.7.9"
  }
 },
 "nbformat": 4,
 "nbformat_minor": 4
}
